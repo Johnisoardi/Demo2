{
 "cells": [
  {
   "cell_type": "code",
   "execution_count": null,
   "id": "7cfd1bcb",
   "metadata": {},
   "outputs": [],
   "source": [
    "import torch\n",
    "import torch.nn as nn\n",
    "import torchvision\n",
    "import torchvision.transforms as transforms\n",
    "import time"
   ]
  },
  {
   "cell_type": "code",
   "execution_count": null,
   "id": "13c992c2",
   "metadata": {},
   "outputs": [],
   "source": [
    "# Device configuration\n",
    "device = torch.device('cuda' if torch.cuda.is_available() else 'cpu')\n",
    "if not torch.cuda.is_available():\n",
    "    print(\"Warning CUDA not Found. Using CPU\")\n",
    "\n",
    "# Hyper-parameters\n",
    "num_epochs = 8\n",
    "learning_rate = 1e-3"
   ]
  },
  {
   "cell_type": "code",
   "execution_count": null,
   "id": "cdc1565c",
   "metadata": {},
   "outputs": [],
   "source": [
    "from google.colab import files\n",
    "import zipfile\n",
    "import os\n",
    "uploaded = files.upload()\n",
    "\n",
    "zip_path = list(uploaded.keys())[0]\n",
    "extract_dir = \"/content/data\"\n",
    "os.makedirs(extract_dir, exist_ok=True)\n",
    "\n",
    "with zipfile.ZipFile(zip_path, 'r') as zip_ref:\n",
    "    zip_ref.extractall(extract_dir)\n",
    "\n",
    "print(\"extracted to\", extract_dir)"
   ]
  },
  {
   "cell_type": "code",
   "execution_count": null,
   "id": "ca28fa25",
   "metadata": {},
   "outputs": [],
   "source": [
    "import os, glob\n",
    "from torch.utils.data import Dataset, DataLoader\n",
    "from PIL import Image\n",
    "\n",
    "class PngSlices(Dataset):\n",
    "    def __init__(self, folder, size=(28,28)):\n",
    "        self.fs = sorted(glob.glob(os.path.join(folder, \"*.png\")))\n",
    "        if not self.fs:\n",
    "            raise FileNotFoundError(f\"No PNGs found in {folder}\")\n",
    "        self.tf = transforms.Compose([\n",
    "            transforms.Grayscale(num_output_channels=1),\n",
    "            transforms.Resize(size, antialias=True),\n",
    "            transforms.ToTensor(),\n",
    "        ])\n",
    "\n",
    "    def __len__(self): return len(self.fs)\n",
    "\n",
    "    def __getitem__(self, i):\n",
    "        img = Image.open(self.fs[i]).convert(\"L\")\n",
    "        return self.tf(img)\n",
    "\n",
    "trainset = PngSlices(\"/content/data/keras_png_slices_data/keras_png_slices_train\", size=(28,28))\n",
    "testset  = PngSlices(\"/content/data/keras_png_slices_data/keras_png_slices_test\",  size=(28,28))\n",
    "\n",
    "train_loader = DataLoader(trainset, batch_size=128, shuffle=True, num_workers=2)\n",
    "test_loader  = DataLoader(testset,  batch_size=100, shuffle=False, num_workers=2)\n",
    "\n",
    "print(f\"> OASIS ready: {len(trainset)} train slices, {len(testset)} test slices\")\n"
   ]
  }
 ],
 "metadata": {
  "kernelspec": {
   "display_name": "comp3710",
   "language": "python",
   "name": "python3"
  },
  "language_info": {
   "name": "python",
   "version": "3.9.23"
  }
 },
 "nbformat": 4,
 "nbformat_minor": 5
}
